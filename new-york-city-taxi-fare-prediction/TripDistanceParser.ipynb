{
 "cells": [
  {
   "cell_type": "code",
   "execution_count": 1,
   "metadata": {},
   "outputs": [],
   "source": [
    "import time\n",
    "import pandas as pd # CSV file I/O (e.g. pd.read_csv)"
   ]
  },
  {
   "cell_type": "code",
   "execution_count": 2,
   "metadata": {},
   "outputs": [],
   "source": [
    "#train_df = pd.read_csv('./training-data.csv')\n",
    "yr = 2010\n",
    "filename_template = './yellow_tripdata_' + str(yr) + \"-\""
   ]
  },
  {
   "cell_type": "code",
   "execution_count": 3,
   "metadata": {},
   "outputs": [
    {
     "name": "stdout",
     "output_type": "stream",
     "text": [
      "Reading cleaned data\n",
      "Filtering data for year: 2010\n",
      "Adding to dict\n"
     ]
    }
   ],
   "source": [
    "print(\"Reading cleaned data\")\n",
    "train_df = pd.read_csv('./cleaned-data.csv')\n",
    "\n",
    "print(\"Filtering data for year: \" + str(yr))\n",
    "train_df = train_df.query('year == @yr')\n",
    "\n",
    "train_dict = {}\n",
    "def add_to_dict(x):\n",
    "    key = str(x.pickup_datetime_obj) + \"_\" + str(round(x.pickup_latitude, 4)) + \"_\"  + str(round(x.pickup_longitude, 4)) \\\n",
    "    + \"_\" + str(round(x.dropoff_latitude, 4)) + \"_\" + str(round(x.dropoff_longitude, 4))\n",
    "    train_dict[key] = -1994\n",
    "\n",
    "print(\"Adding to dict\")\n",
    "for row in train_df.itertuples():\n",
    "    add_to_dict(row)"
   ]
  },
  {
   "cell_type": "code",
   "execution_count": 11,
   "metadata": {},
   "outputs": [
    {
     "name": "stdout",
     "output_type": "stream",
     "text": [
      "Processing: ./yellow_tripdata_2010-04.csv\n",
      "Adding to dict\n",
      "Sleeping for 30 seconds\n",
      "Processing: ./yellow_tripdata_2010-05.csv\n",
      "Adding to dict\n",
      "Sleeping for 30 seconds\n",
      "Processing: ./yellow_tripdata_2010-06.csv\n",
      "Adding to dict\n",
      "Sleeping for 30 seconds\n",
      "Processing: ./yellow_tripdata_2010-07.csv\n",
      "Adding to dict\n",
      "Sleeping for 30 seconds\n",
      "Processing: ./yellow_tripdata_2010-08.csv\n"
     ]
    },
    {
     "name": "stderr",
     "output_type": "stream",
     "text": [
      "/anaconda3/lib/python3.6/site-packages/IPython/core/interactiveshell.py:2785: DtypeWarning: Columns (8) have mixed types. Specify dtype option on import or set low_memory=False.\n",
      "  interactivity=interactivity, compiler=compiler, result=result)\n"
     ]
    },
    {
     "name": "stdout",
     "output_type": "stream",
     "text": [
      "Adding to dict\n",
      "Sleeping for 30 seconds\n",
      "Processing: ./yellow_tripdata_2010-09.csv\n",
      "Adding to dict\n",
      "Sleeping for 30 seconds\n",
      "Processing: ./yellow_tripdata_2010-10.csv\n",
      "Adding to dict\n",
      "Sleeping for 30 seconds\n",
      "Processing: ./yellow_tripdata_2010-11.csv\n",
      "Adding to dict\n",
      "Sleeping for 30 seconds\n",
      "Processing: ./yellow_tripdata_2010-12.csv\n",
      "Adding to dict\n",
      "Sleeping for 30 seconds\n",
      "Mismatch count 353901\n"
     ]
    }
   ],
   "source": [
    "def map_to_dict(x):\n",
    "    key = str(x.pickup_datetime) + \"_\" + str(round(x.pickup_latitude, 4)) + \"_\" \\\n",
    "    + str(round(x.pickup_longitude, 4)) + \"_\" + str(round(x.dropoff_latitude, 4)) + \"_\" \\\n",
    "    + str(round(x.dropoff_longitude, 4))\n",
    "    \n",
    "    if key in train_dict:\n",
    "        train_dict[key] = x.trip_distance\n",
    "\n",
    "for i in range(4,13):\n",
    "    golden_df = None\n",
    "    \n",
    "    idx = str(i)\n",
    "    if i < 10:\n",
    "        idx = '0' + idx\n",
    "        \n",
    "    filename = filename_template + idx + '.csv'\n",
    "    \n",
    "    print(\"Processing: \" + filename)\n",
    "    \n",
    "    golden_df = pd.read_csv(filename);\n",
    "    golden_df = golden_df[['pickup_datetime', 'pickup_latitude', 'pickup_longitude', 'dropoff_latitude', 'dropoff_longitude', 'trip_distance']]\n",
    "    \n",
    "    print(\"Adding to dict\")\n",
    "    for row in golden_df.itertuples():\n",
    "        map_to_dict(row)\n",
    "    \n",
    "    golden_df = None\n",
    "    \n",
    "    print(\"Sleeping for 30 seconds\")\n",
    "    time.sleep(30)\n",
    "\n",
    "count = 0\n",
    "for i in train_dict:\n",
    "    if train_dict[i] == -1994:\n",
    "        count += 1\n",
    "        \n",
    "print(\"Mismatch count %d\" % count)"
   ]
  },
  {
   "cell_type": "code",
   "execution_count": 12,
   "metadata": {},
   "outputs": [],
   "source": [
    "dist_list = []\n",
    "def dict_to_df(x):\n",
    "    key = str(x.pickup_datetime_obj) + \"_\" + str(round(x.pickup_latitude, 4)) + \"_\"  + str(round(x.pickup_longitude, 4)) \\\n",
    "    + \"_\" + str(round(x.dropoff_latitude, 4)) + \"_\" + str(round(x.dropoff_longitude, 4))\n",
    "    if train_dict[key] != -1994:\n",
    "        dist_list.append(train_dict[key])\n",
    "    else:\n",
    "        dist_list.append(x.eucledian_distance)\n",
    "        \n",
    "for row in train_df.itertuples():\n",
    "    dict_to_df(row)\n",
    "\n",
    "train_df['trip_distance'] = dist_list"
   ]
  },
  {
   "cell_type": "code",
   "execution_count": 13,
   "metadata": {},
   "outputs": [],
   "source": [
    "train_df.to_csv('cleaned-data-' + str(yr) + '.csv', index = False)"
   ]
  },
  {
   "cell_type": "code",
   "execution_count": null,
   "metadata": {},
   "outputs": [],
   "source": []
  }
 ],
 "metadata": {
  "kernelspec": {
   "display_name": "Python 3",
   "language": "python",
   "name": "python3"
  },
  "language_info": {
   "codemirror_mode": {
    "name": "ipython",
    "version": 3
   },
   "file_extension": ".py",
   "mimetype": "text/x-python",
   "name": "python",
   "nbconvert_exporter": "python",
   "pygments_lexer": "ipython3",
   "version": "3.6.5"
  }
 },
 "nbformat": 4,
 "nbformat_minor": 2
}
